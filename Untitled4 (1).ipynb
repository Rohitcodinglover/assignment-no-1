{
 "cells": [
  {
   "cell_type": "code",
   "execution_count": 1,
   "id": "4b60c8be-faf5-4be6-9226-7735c5d94882",
   "metadata": {},
   "outputs": [
    {
     "name": "stdout",
     "output_type": "stream",
     "text": [
      "45.0\n"
     ]
    }
   ],
   "source": [
    " # Convert an integer to a floating-point number.\n",
    "a= 45\n",
    "print(float(a))"
   ]
  },
  {
   "cell_type": "code",
   "execution_count": 2,
   "id": "127d2b90-24b8-4ef9-ba01-e1cb7c0ea2d5",
   "metadata": {},
   "outputs": [
    {
     "name": "stdout",
     "output_type": "stream",
     "text": [
      "67\n"
     ]
    }
   ],
   "source": [
    "# Convert a float to an integer.\n",
    "c=67.05\n",
    "print(int(c))"
   ]
  },
  {
   "cell_type": "code",
   "execution_count": 4,
   "id": "7610a800-1c36-47d7-9489-70295c502c0a",
   "metadata": {},
   "outputs": [
    {
     "name": "stdout",
     "output_type": "stream",
     "text": [
      "23\n"
     ]
    }
   ],
   "source": [
    "# Convert an integer to a string.\n",
    "s=23\n",
    "s=str(s)\n",
    "print(s)"
   ]
  },
  {
   "cell_type": "code",
   "execution_count": 7,
   "id": "77a99999-8e8d-4a8f-b4da-e014274a9fcc",
   "metadata": {},
   "outputs": [
    {
     "name": "stdout",
     "output_type": "stream",
     "text": [
      "(1, 2, 3, 4, 5, 6, 7, 8)\n"
     ]
    }
   ],
   "source": [
    "# Convert a list to a tuple.\n",
    "l=[1,2,3,4,5,6,7,8]\n",
    "print(tuple(l))"
   ]
  },
  {
   "cell_type": "code",
   "execution_count": 8,
   "id": "d2351eac-6039-4e31-89c0-5ae539125462",
   "metadata": {},
   "outputs": [
    {
     "name": "stdout",
     "output_type": "stream",
     "text": [
      "[1, 2, 3, 4, 5, 6, 7, 8]\n"
     ]
    }
   ],
   "source": [
    "# Convert a tuple to a list.\n",
    "T=(1,2,3,4,5,6,7,8)\n",
    "print(list(T))"
   ]
  },
  {
   "cell_type": "code",
   "execution_count": 9,
   "id": "ffa1255f-4fe2-43ad-ab58-1ea1c7227cc6",
   "metadata": {},
   "outputs": [
    {
     "name": "stdout",
     "output_type": "stream",
     "text": [
      "0b101101\n"
     ]
    }
   ],
   "source": [
    "# Convert a decimal number to binary.\n",
    "Decimal_number=45\n",
    "print(bin(Decimal_number))"
   ]
  },
  {
   "cell_type": "code",
   "execution_count": null,
   "id": "d6f49adf-aad4-4433-8ff8-566316e303b6",
   "metadata": {},
   "outputs": [],
   "source": [
    "# Convert a non-zero number to boolean.\n",
    "b=float(input(\"Enter a non-zero number: \"))\n",
    "if (b>0 or b<0):\n",
    "   print(bin(b))\n",
    "        "
   ]
  },
  {
   "cell_type": "code",
   "execution_count": null,
   "id": "8395ee76-ed4d-4c65-8d8b-efab35620fc5",
   "metadata": {},
   "outputs": [],
   "source": []
  }
 ],
 "metadata": {
  "kernelspec": {
   "display_name": "Python 3 (ipykernel)",
   "language": "python",
   "name": "python3"
  },
  "language_info": {
   "codemirror_mode": {
    "name": "ipython",
    "version": 3
   },
   "file_extension": ".py",
   "mimetype": "text/x-python",
   "name": "python",
   "nbconvert_exporter": "python",
   "pygments_lexer": "ipython3",
   "version": "3.12.4"
  }
 },
 "nbformat": 4,
 "nbformat_minor": 5
}
